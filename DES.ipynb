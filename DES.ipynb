{
 "cells": [
  {
   "cell_type": "markdown",
   "metadata": {},
   "source": [
    "digunakan untuk memasukkan inputan plaintext yang akan di enkripsi"
   ]
  },
  {
   "cell_type": "code",
   "execution_count": 1,
   "id": "677f5c13",
   "metadata": {},
   "outputs": [
    {
     "name": "stdout",
     "output_type": "stream",
     "text": [
      "Pesan yang akan di enkripsi:  computer\n"
     ]
    }
   ],
   "source": [
    "plainText = input(\"Masukkan pesan yang akan di enrkipsi (64 bit): \")\n",
    "print(\"Pesan yang akan di enkripsi: \", plainText)\n",
    "\n",
    "# jika plaintext kurang dari 64 bit atau 8 karakter, maka tampilkan pesan error, dan program akan berhenti\n",
    "if len(plainText) < 8:\n",
    "    print(f\"Plaintext: {plainText}, harus 64 bit atau 8 karakter\")\n",
    "    exit()"
   ]
  },
  {
   "cell_type": "markdown",
   "metadata": {},
   "source": [
    "digunakan untuk memasukkan inputan key yang akan di enkripsi"
   ]
  },
  {
   "cell_type": "code",
   "execution_count": 2,
   "id": "7cf19b08",
   "metadata": {},
   "outputs": [
    {
     "name": "stdout",
     "output_type": "stream",
     "text": [
      "Kunci yang digunakan:  133457799bbcdff1\n"
     ]
    }
   ],
   "source": [
    "key = input(\"Masukkan kunci untuk algoritma DES dalam bentuk hexadecimal (64 bit): \")\n",
    "print(\"Kunci yang digunakan: \", key)\n",
    "\n",
    "# jika kunci kurang dari 64 bit atau 16 karakter, maka tampilkan pesan error, dan program akan berhenti\n",
    "if len(key) < 16:\n",
    "    print(f\"Kunci: {key}, harus 64 bit atau 16 karakter\")\n",
    "    exit()"
   ]
  },
  {
   "cell_type": "markdown",
   "metadata": {},
   "source": [
    "konversi inputan plaintext menjadi hexadesimal, dan menambahkan fungsi ```upper()``` untuk mengubah semua karakter menjadi huruf kapital"
   ]
  },
  {
   "cell_type": "code",
   "execution_count": 3,
   "id": "4519d5a2",
   "metadata": {},
   "outputs": [
    {
     "name": "stdout",
     "output_type": "stream",
     "text": [
      "computer dalam bentuk hexadecimal: 636F6D7075746572\n",
      "133457799bbcdff1 => 133457799BBCDFF1\n"
     ]
    }
   ],
   "source": [
    "textHexa = plainText.encode().hex().upper()\n",
    "print(f\"{plainText} dalam bentuk hexadecimal: \" + textHexa)\n",
    "\n",
    "keyUpper = key.upper()\n",
    "print(f\"{key} => \" + keyUpper)"
   ]
  },
  {
   "cell_type": "markdown",
   "metadata": {},
   "source": [
    "sebagai mapping untuk mengubah dari hexadecimal ke binary"
   ]
  },
  {
   "cell_type": "code",
   "execution_count": 4,
   "metadata": {},
   "outputs": [],
   "source": [
    "hxArray = {'0': \"0000\",\n",
    "    '1': \"0001\",\n",
    "    '2': \"0010\",\n",
    "    '3': \"0011\",\n",
    "    '4': \"0100\",\n",
    "    '5': \"0101\",\n",
    "    '6': \"0110\",\n",
    "    '7': \"0111\",\n",
    "    '8': \"1000\",\n",
    "    '9': \"1001\",\n",
    "    'A': \"1010\",\n",
    "    'B': \"1011\",\n",
    "    'C': \"1100\",\n",
    "    'D': \"1101\",\n",
    "    'E': \"1110\",\n",
    "    'F': \"1111\"}"
   ]
  },
  {
   "cell_type": "markdown",
   "metadata": {},
   "source": [
    "# Konversi Hex ke Biner (Text)"
   ]
  },
  {
   "cell_type": "code",
   "execution_count": 5,
   "id": "b2f3959a",
   "metadata": {
    "scrolled": true
   },
   "outputs": [
    {
     "name": "stdout",
     "output_type": "stream",
     "text": [
      "636F6D7075746572 ke dalam bentuk biner: 0110001101101111011011010111000001110101011101000110010101110010\n"
     ]
    }
   ],
   "source": [
    "bin = \"\"\n",
    "for i in range(len(textHexa)):\n",
    "    bin = bin + hxArray[textHexa[i]]\n",
    "\n",
    "print(f\"{textHexa} ke dalam bentuk biner: \" + bin)"
   ]
  },
  {
   "cell_type": "markdown",
   "metadata": {},
   "source": [
    "# Pembagian per 8 bit pada Biner (Text)"
   ]
  },
  {
   "cell_type": "code",
   "execution_count": 6,
   "id": "62b7e0e1",
   "metadata": {},
   "outputs": [
    {
     "name": "stdout",
     "output_type": "stream",
     "text": [
      "binary splitting dari computer dan 636F6D7075746572: 01100011 01101111 01101101 01110000 01110101 01110100 01100101 01110010\n"
     ]
    }
   ],
   "source": [
    "splitText = ' '.join([bin[i:i+8] for i in range(0, len(bin), 8)])\n",
    "print(f\"binary splitting dari {plainText} dan {textHexa}: \" + splitText)"
   ]
  },
  {
   "cell_type": "markdown",
   "metadata": {},
   "source": [
    "# Perhitungan panjang bit pada Text"
   ]
  },
  {
   "cell_type": "code",
   "execution_count": 7,
   "id": "0a709b45",
   "metadata": {},
   "outputs": [
    {
     "name": "stdout",
     "output_type": "stream",
     "text": [
      "Panjang computer: 64\n"
     ]
    }
   ],
   "source": [
    "print(f\"Panjang {plainText}: \" + str(len(bin)))"
   ]
  },
  {
   "cell_type": "markdown",
   "metadata": {},
   "source": [
    "# Permutasi Awal"
   ]
  },
  {
   "cell_type": "markdown",
   "metadata": {},
   "source": [
    "digunakan untuk mengacak plaintext sehingga urutan bit - bit di dalamnya berubah"
   ]
  },
  {
   "cell_type": "markdown",
   "metadata": {},
   "source": [
    "encoding setiap 64 bit data pada plaintext dengan tabel permutasi awal, sehingga menghasilkan initial permutation (IP)"
   ]
  },
  {
   "cell_type": "code",
   "execution_count": 8,
   "metadata": {},
   "outputs": [],
   "source": [
    "# ini adalah tabel permutasi awal\n",
    "initPerm = [58, 50, 42, 34, 26, 18, 10, 2,\n",
    "            60, 52, 44, 36, 28, 20, 12, 4,\n",
    "            62, 54, 46, 38, 30, 22, 14, 6,\n",
    "            64, 56, 48, 40, 32, 24, 16, 8,\n",
    "            57, 49, 41, 33, 25, 17, 9, 1,\n",
    "            59, 51, 43, 35, 27, 19, 11, 3,\n",
    "            61, 53, 45, 37, 29, 21, 13, 5,\n",
    "            63, 55, 47, 39, 31, 23, 15, 7]"
   ]
  },
  {
   "cell_type": "code",
   "execution_count": 9,
   "id": "011d7d00",
   "metadata": {},
   "outputs": [
    {
     "name": "stdout",
     "output_type": "stream",
     "text": [
      "IP: 11111111 10111000 01110110 01010111 00000000 11111111 00000110 10000011\n"
     ]
    }
   ],
   "source": [
    "permutation = \"\"\n",
    "for i in range(0, 64):\n",
    "    permutation = permutation + bin[initPerm[i] - 1]\n",
    "\n",
    "split = ' '.join([permutation[i:i+8] for i in range(0, len(permutation), 8)])\n",
    "print(\"IP: \" + split)"
   ]
  },
  {
   "cell_type": "markdown",
   "metadata": {},
   "source": [
    "# Pembagian 64 bit menjadi 32 bit => L0 dan R0"
   ]
  },
  {
   "cell_type": "markdown",
   "metadata": {},
   "source": [
    "pecah hasil IP (initial permutation) menjadi 2 bagian, yaitu L0 dan R0, sebanyak 32 bit untuk setiap bagiannya"
   ]
  },
  {
   "cell_type": "code",
   "execution_count": 10,
   "id": "c24db592",
   "metadata": {},
   "outputs": [
    {
     "name": "stdout",
     "output_type": "stream",
     "text": [
      "L0: 11111111 10111000 01110110 01010111\n",
      "R0: 00000000 11111111 00000110 10000011\n"
     ]
    }
   ],
   "source": [
    "# Splitting\n",
    "left = permutation[0:32]\n",
    "right = permutation[32:64]\n",
    "\n",
    "kiri = ' '.join([left[i:i+8] for i in range(0, len(left), 8)])\n",
    "print(\"L0: \" + kiri)\n",
    "\n",
    "kanan = ' '.join([right[i:i+8] for i in range(0, len(right), 8)])\n",
    "print(\"R0: \" + kanan)"
   ]
  },
  {
   "cell_type": "markdown",
   "metadata": {},
   "source": [
    "# **Break**\n",
    "\n",
    "*   Berhenti dahulu proses untuk permutasi plaintext\n",
    "*   Lanjutkan untuk pembangkitan kunci"
   ]
  },
  {
   "cell_type": "markdown",
   "metadata": {},
   "source": [
    "# Pembangkitan Kunci"
   ]
  },
  {
   "cell_type": "code",
   "execution_count": 11,
   "id": "ad8a9d15",
   "metadata": {},
   "outputs": [
    {
     "name": "stdout",
     "output_type": "stream",
     "text": [
      "K: 00010011 00110100 01010111 01111001 10011011 10111100 11011111 11110001\n"
     ]
    }
   ],
   "source": [
    "binkey = \"\"\n",
    "for i in range(len(keyUpper)):\n",
    "    binkey = binkey + hxArray[keyUpper[i]]\n",
    "\n",
    "split = ' '.join([binkey[i:i+8] for i in range(0, len(binkey), 8)])\n",
    "print(\"K: \" + split)"
   ]
  },
  {
   "cell_type": "markdown",
   "metadata": {},
   "source": [
    "# Permutasi PC-1"
   ]
  },
  {
   "cell_type": "code",
   "execution_count": 12,
   "id": "8298ce83",
   "metadata": {},
   "outputs": [
    {
     "name": "stdout",
     "output_type": "stream",
     "text": [
      "K+: 11110000 11001100 10101010 11110101 01010110 01100111 10001111\n"
     ]
    }
   ],
   "source": [
    "# ini adalah tabel pc1\n",
    "pc1 = [57, 49, 41, 33, 25, 17, 9, 1,\n",
    "       58, 50, 42, 34, 26, 18, 10, 2,\n",
    "       59, 51, 43, 35, 27, 19, 11, 3,\n",
    "       60, 52, 44, 36, 63, 55, 47, 39,\n",
    "       31, 23, 15, 7, 62, 54, 46, 38,\n",
    "       30, 22, 14, 6, 61, 53, 45, 37,\n",
    "       29, 21, 13, 5, 28, 20, 12, 4]\n",
    "\n",
    "permutationkey = \"\"\n",
    "for i in range(0, 56):\n",
    "    permutationkey = permutationkey + binkey[pc1[i] - 1]\n",
    "\n",
    "separated_text = ' '.join([permutationkey[i:i+8] for i in range(0, len(permutationkey), 8)])\n",
    "print(\"K+: \" + separated_text)"
   ]
  },
  {
   "cell_type": "markdown",
   "metadata": {},
   "source": [
    "# Pecah menjadi 28 bit => C0 dan D0"
   ]
  },
  {
   "cell_type": "markdown",
   "metadata": {},
   "source": [
    "setelah mendapatkan K+, kemudian dibagi menjadi 2 bagian, yaitu C0 dan D0, sebanyak 28 bit untuk setiap bagiannya"
   ]
  },
  {
   "cell_type": "code",
   "execution_count": 13,
   "id": "3a592ee5",
   "metadata": {},
   "outputs": [
    {
     "name": "stdout",
     "output_type": "stream",
     "text": [
      "C0: 1111000 0110011 0010101 0101111\n",
      "D0: 0101010 1011001 1001111 0001111\n"
     ]
    }
   ],
   "source": [
    "left1 = permutationkey[0:28]\n",
    "right1 = permutationkey[28:56]\n",
    "\n",
    "kiri1 = ' '.join([left1[i:i+7] for i in range(0, len(left1), 7)])\n",
    "print(\"C0: \" + kiri1)\n",
    "\n",
    "kanan1 = ' '.join([right1[i:i+7] for i in range(0, len(right1), 7)])\n",
    "print(\"D0: \" + kanan1)"
   ]
  },
  {
   "cell_type": "markdown",
   "metadata": {},
   "source": [
    "# Penggeseran dengan memakai shift table"
   ]
  },
  {
   "cell_type": "code",
   "execution_count": 14,
   "metadata": {},
   "outputs": [],
   "source": [
    "# ini adalah tabel shift key\n",
    "shift_table = [1, 1, 2, 2,\n",
    "               2, 2, 2, 2,\n",
    "               1, 2, 2, 2,\n",
    "               2, 2, 2, 1]"
   ]
  },
  {
   "cell_type": "markdown",
   "metadata": {},
   "source": [
    "penjelasan: pergeseran kunci sebnayak 16 putaran, dengan setiap putaran memiliki pergeseran yang berbeda - beda dari shift table"
   ]
  },
  {
   "cell_type": "code",
   "execution_count": 15,
   "id": "b290de7a",
   "metadata": {},
   "outputs": [
    {
     "name": "stdout",
     "output_type": "stream",
     "text": [
      "\n",
      "C1 = 1110000110011001010101011111\n",
      "D1 = 1010101011001100111100011110\n",
      "\n",
      "C2 = 1100001100110010101010111111\n",
      "D2 = 0101010110011001111000111101\n",
      "\n",
      "C3 = 0000110011001010101011111111\n",
      "D3 = 0101011001100111100011110101\n",
      "\n",
      "C4 = 0011001100101010101111111100\n",
      "D4 = 0101100110011110001111010101\n",
      "\n",
      "C5 = 1100110010101010111111110000\n",
      "D5 = 0110011001111000111101010101\n",
      "\n",
      "C6 = 0011001010101011111111000011\n",
      "D6 = 1001100111100011110101010101\n",
      "\n",
      "C7 = 1100101010101111111100001100\n",
      "D7 = 0110011110001111010101010110\n",
      "\n",
      "C8 = 0010101010111111110000110011\n",
      "D8 = 1001111000111101010101011001\n",
      "\n",
      "C9 = 0101010101111111100001100110\n",
      "D9 = 0011110001111010101010110011\n",
      "\n",
      "C10 = 0101010111111110000110011001\n",
      "D10 = 1111000111101010101011001100\n",
      "\n",
      "C11 = 0101011111111000011001100101\n",
      "D11 = 1100011110101010101100110011\n",
      "\n",
      "C12 = 0101111111100001100110010101\n",
      "D12 = 0001111010101010110011001111\n",
      "\n",
      "C13 = 0111111110000110011001010101\n",
      "D13 = 0111101010101011001100111100\n",
      "\n",
      "C14 = 1111111000011001100101010101\n",
      "D14 = 1110101010101100110011110001\n",
      "\n",
      "C15 = 1111100001100110010101010111\n",
      "D15 = 1010101010110011001111000111\n",
      "\n",
      "C16 = 1111000011001100101010101111\n",
      "D16 = 0101010101100110011110001111\n"
     ]
    }
   ],
   "source": [
    "for i in range(0, 16):\n",
    "    pergeseranKunciKiri = \"\" # inisialisasi pergeseran kunci\n",
    "    for j in range(shift_table[i]):\n",
    "        for k in range(1, len(left1)):\n",
    "            pergeseranKunciKiri = pergeseranKunciKiri + left1[k]\n",
    "        pergeseranKunciKiri = pergeseranKunciKiri + left1[0]\n",
    "        left1 = pergeseranKunciKiri\n",
    "        pergeseranKunciKiri = \"\"\n",
    "\n",
    "    pergeseranKunciKanan = \"\"\n",
    "    for j in range(shift_table[i]):\n",
    "        for k in range(1, len(right1)):\n",
    "            pergeseranKunciKanan = pergeseranKunciKanan + right1[k]\n",
    "        pergeseranKunciKanan = pergeseranKunciKanan + right1[0]\n",
    "        right1 = pergeseranKunciKanan\n",
    "        pergeseranKunciKanan = \"\"\n",
    "    \n",
    "    print(f\"\\nC{i+1} =\", left1)\n",
    "    print(f\"D{i+1} =\", right1)"
   ]
  },
  {
   "cell_type": "markdown",
   "metadata": {},
   "source": [
    "penjelasan: mengambil karakter dari indeks 1 hingga akhir dari string k (mengabaikan karakter pertama), kemudian menambahkan karakter pertama dari ```k``` di belakangnya. Proses ini dilakukan sebanyak ```geser``` kali."
   ]
  },
  {
   "cell_type": "code",
   "execution_count": 16,
   "metadata": {},
   "outputs": [],
   "source": [
    "def shift_left(k, geser):\n",
    "    s = \"\" # inisialisasi pergeseran kunci\n",
    "    for i in range(geser): \n",
    "        for j in range(1, len(k)):\n",
    "            s = s + k[j]\n",
    "        s = s + k[0]\n",
    "        k = s\n",
    "        s = \"\"\n",
    "    return k"
   ]
  },
  {
   "cell_type": "markdown",
   "metadata": {},
   "source": [
    "penggabungan kunci C dan D, setelah pergeseran kunci sebanyak 16 putaran menggunakan tabel ```shift_table``` yang telah dibuat"
   ]
  },
  {
   "cell_type": "code",
   "execution_count": 17,
   "id": "4dbba670",
   "metadata": {},
   "outputs": [
    {
     "name": "stdout",
     "output_type": "stream",
     "text": [
      "C1D1 = 11100001 10011001 01010101 11111010 10101100 11001111 00011110\n",
      "C2D2 = 11000011 00110010 10101011 11110101 01011001 10011110 00111101\n",
      "C3D3 = 00001100 11001010 10101111 11110101 01100110 01111000 11110101\n",
      "C4D4 = 00110011 00101010 10111111 11000101 10011001 11100011 11010101\n",
      "C5D5 = 11001100 10101010 11111111 00000110 01100111 10001111 01010101\n",
      "C6D6 = 00110010 10101011 11111100 00111001 10011110 00111101 01010101\n",
      "C7D7 = 11001010 10101111 11110000 11000110 01111000 11110101 01010110\n",
      "C8D8 = 00101010 10111111 11000011 00111001 11100011 11010101 01011001\n",
      "C9D9 = 01010101 01111111 10000110 01100011 11000111 10101010 10110011\n",
      "C10D10 = 01010101 11111110 00011001 10011111 00011110 10101010 11001100\n",
      "C11D11 = 01010111 11111000 01100110 01011100 01111010 10101011 00110011\n",
      "C12D12 = 01011111 11100001 10011001 01010001 11101010 10101100 11001111\n",
      "C13D13 = 01111111 10000110 01100101 01010111 10101010 10110011 00111100\n",
      "C14D14 = 11111110 00011001 10010101 01011110 10101010 11001100 11110001\n",
      "C15D15 = 11111000 01100110 01010101 01111010 10101011 00110011 11000111\n",
      "C16D16 = 11110000 11001100 10101010 11110101 01010110 01100111 10001111\n"
     ]
    }
   ],
   "source": [
    "for i in range(0, 16):\n",
    "    leftkey = shift_left(left1, shift_table[i]) # memanggil fungsi shift left, untuk melakukan pergeseran bit pada leftKey sesuai nilai dalam shift_table\n",
    "    rightkey = shift_left(right1, shift_table[i]) # memanggil fungsi shift left, untuk melakukan pergeseran bit pada rightKey sesuai nilai dalam shift_table\n",
    "    \n",
    "    left1 = leftkey # mengganti nilai left1 dengan leftkey\n",
    "    right1 = rightkey # mengganti nilai right1 dengan rightkey\n",
    "    \n",
    "    combine_str = left1 + right1 # menggabungkan left1 dan right1\n",
    "    split = ' '.join([combine_str[i:i+8] for i in range(0, len(combine_str), 8)]) # memisahkan string menjadi 8 bit\n",
    "    print(f\"C{i+1}\" + f\"D{i+1} = \" + split)"
   ]
  },
  {
   "cell_type": "markdown",
   "metadata": {},
   "source": [
    "# Permutasi PC-2"
   ]
  },
  {
   "cell_type": "code",
   "execution_count": 18,
   "metadata": {},
   "outputs": [],
   "source": [
    "# ini adalah tabel pc2\n",
    "pc2 = [14, 17, 11, 24, 1, 5, 3, 28,\n",
    "       15, 6, 21, 10, 23, 19, 12, 4,\n",
    "       26, 8, 16, 7, 27, 20, 13, 2,\n",
    "       41, 52, 31, 37, 47, 55, 30, 40,\n",
    "       51, 45, 33, 48, 44, 49, 39, 56,\n",
    "       34, 53, 46, 42, 50, 36, 29, 32]"
   ]
  },
  {
   "cell_type": "markdown",
   "metadata": {},
   "source": [
    "setelah pergeseran kunci, kunci akan dipermutasi kembali menggunakan tabel PC-2, sehingga menghasilkan kunci K1, K2, K3, ..., K16"
   ]
  },
  {
   "cell_type": "code",
   "execution_count": 19,
   "id": "7cfd071e",
   "metadata": {},
   "outputs": [
    {
     "name": "stdout",
     "output_type": "stream",
     "text": [
      "K1 =  000110 110000 001011 101111 111111 000111 000001 110010\n",
      "K2 =  011110 011010 111011 011001 110110 111100 100111 100101\n",
      "K3 =  010101 011111 110010 001010 010000 101100 111110 011001\n",
      "K4 =  011100 101010 110111 010110 110110 110011 010100 011101\n",
      "K5 =  011111 001110 110000 000111 111010 110101 001110 101000\n",
      "K6 =  011000 111010 010100 111110 010100 000111 101100 101111\n",
      "K7 =  111011 001000 010010 110111 111101 100001 100010 111100\n",
      "K8 =  111101 111000 101000 111010 110000 010011 101111 111011\n",
      "K9 =  111000 001101 101111 101011 111011 011110 011110 000001\n",
      "K10 =  101100 011111 001101 000111 101110 100100 011001 001111\n",
      "K11 =  001000 010101 111111 010011 110111 101101 001110 000110\n",
      "K12 =  011101 010111 000111 110101 100101 000110 011111 101001\n",
      "K13 =  100101 111100 010111 010001 111110 101011 101001 000001\n",
      "K14 =  010111 110100 001110 110111 111100 101110 011100 111010\n",
      "K15 =  101111 111001 000110 001101 001111 010011 111100 001010\n",
      "K16 =  110010 110011 110110 001011 000011 100001 011111 110101\n",
      "['000110110000001011101111111111000111000001110010', '011110011010111011011001110110111100100111100101', '010101011111110010001010010000101100111110011001', '011100101010110111010110110110110011010100011101', '011111001110110000000111111010110101001110101000', '011000111010010100111110010100000111101100101111', '111011001000010010110111111101100001100010111100', '111101111000101000111010110000010011101111111011', '111000001101101111101011111011011110011110000001', '101100011111001101000111101110100100011001001111', '001000010101111111010011110111101101001110000110', '011101010111000111110101100101000110011111101001', '100101111100010111010001111110101011101001000001', '010111110100001110110111111100101110011100111010', '101111111001000110001101001111010011111100001010', '110010110011110110001011000011100001011111110101']\n"
     ]
    }
   ],
   "source": [
    "keyPC2 = []\n",
    "\n",
    "for i in range(0, 16):\n",
    "    leftkey = shift_left(left1, shift_table[i])\n",
    "    rightkey = shift_left(right1, shift_table[i])\n",
    "    \n",
    "    left1 = leftkey\n",
    "    right1 = rightkey\n",
    "    \n",
    "    combine_str = left1 + right1 # menggabungkan left1 dan right1\n",
    "    \n",
    "    round_key = \"\" # inisialisasi round key\n",
    "    for j in range(0, 48):\n",
    "        round_key = round_key + combine_str[pc2[j] - 1] \n",
    "\n",
    "    split = ' '.join([round_key[i:i+6] for i in range(0, len(round_key), 6)]) # memisahkan string menjadi 6 bit\n",
    "    \n",
    "    print(f\"K{i+1} = \", split)\n",
    "    \n",
    "    keyPC2.append(round_key) # menambahkan round_key ke dalam array keyPC2\n",
    "\n",
    "print(keyPC2)"
   ]
  },
  {
   "cell_type": "markdown",
   "metadata": {},
   "source": [
    "ini tabel ekspansi"
   ]
  },
  {
   "cell_type": "code",
   "execution_count": 20,
   "id": "6e9c9520",
   "metadata": {},
   "outputs": [],
   "source": [
    "ekspansiArray = [32, 1, 2, 3, 4, 5, 4, 5,\n",
    "         6, 7, 8, 9, 8, 9, 10, 11,\n",
    "         12, 13, 12, 13, 14, 15, 16, 17,\n",
    "         16, 17, 18, 19, 20, 21, 20, 21,\n",
    "         22, 23, 24, 25, 24, 25, 26, 27,\n",
    "         28, 29, 28, 29, 30, 31, 32, 1]"
   ]
  },
  {
   "cell_type": "markdown",
   "metadata": {},
   "source": [
    "ini tabel S-Box"
   ]
  },
  {
   "cell_type": "code",
   "execution_count": 21,
   "id": "77ec42da",
   "metadata": {},
   "outputs": [],
   "source": [
    "SboxArray = [[[14, 4, 13, 1, 2, 15, 11, 8, 3, 10, 6, 12, 5, 9, 0, 7],\n",
    "         [0, 15, 7, 4, 14, 2, 13, 1, 10, 6, 12, 11, 9, 5, 3, 8],\n",
    "         [4, 1, 14, 8, 13, 6, 2, 11, 15, 12, 9, 7, 3, 10, 5, 0],\n",
    "         [15, 12, 8, 2, 4, 9, 1, 7, 5, 11, 3, 14, 10, 0, 6, 13]],\n",
    "\n",
    "        [[15, 1, 8, 14, 6, 11, 3, 4, 9, 7, 2, 13, 12, 0, 5, 10],\n",
    "         [3, 13, 4, 7, 15, 2, 8, 14, 12, 0, 1, 10, 6, 9, 11, 5],\n",
    "         [0, 14, 7, 11, 10, 4, 13, 1, 5, 8, 12, 6, 9, 3, 2, 15],\n",
    "         [13, 8, 10, 1, 3, 15, 4, 2, 11, 6, 7, 12, 0, 5, 14, 9]],\n",
    "\n",
    "        [[10, 0, 9, 14, 6, 3, 15, 5, 1, 13, 12, 7, 11, 4, 2, 8],\n",
    "         [13, 7, 0, 9, 3, 4, 6, 10, 2, 8, 5, 14, 12, 11, 15, 1],\n",
    "         [13, 6, 4, 9, 8, 15, 3, 0, 11, 1, 2, 12, 5, 10, 14, 7],\n",
    "         [1, 10, 13, 0, 6, 9, 8, 7, 4, 15, 14, 3, 11, 5, 2, 12]],\n",
    "\n",
    "        [[7, 13, 14, 3, 0, 6, 9, 10, 1, 2, 8, 5, 11, 12, 4, 15],\n",
    "         [13, 8, 11, 5, 6, 15, 0, 3, 4, 7, 2, 12, 1, 10, 14, 9],\n",
    "         [10, 6, 9, 0, 12, 11, 7, 13, 15, 1, 3, 14, 5, 2, 8, 4],\n",
    "         [3, 15, 0, 6, 10, 1, 13, 8, 9, 4, 5, 11, 12, 7, 2, 14]],\n",
    "\n",
    "        [[2, 12, 4, 1, 7, 10, 11, 6, 8, 5, 3, 15, 13, 0, 14, 9],\n",
    "         [14, 11, 2, 12, 4, 7, 13, 1, 5, 0, 15, 10, 3, 9, 8, 6],\n",
    "         [4, 2, 1, 11, 10, 13, 7, 8, 15, 9, 12, 5, 6, 3, 0, 14],\n",
    "         [11, 8, 12, 7, 1, 14, 2, 13, 6, 15, 0, 9, 10, 4, 5, 3]],\n",
    "\n",
    "        [[12, 1, 10, 15, 9, 2, 6, 8, 0, 13, 3, 4, 14, 7, 5, 11],\n",
    "         [10, 15, 4, 2, 7, 12, 9, 5, 6, 1, 13, 14, 0, 11, 3, 8],\n",
    "         [9, 14, 15, 5, 2, 8, 12, 3, 7, 0, 4, 10, 1, 13, 11, 6],\n",
    "         [4, 3, 2, 12, 9, 5, 15, 10, 11, 14, 1, 7, 6, 0, 8, 13]],\n",
    "\n",
    "        [[4, 11, 2, 14, 15, 0, 8, 13, 3, 12, 9, 7, 5, 10, 6, 1],\n",
    "         [13, 0, 11, 7, 4, 9, 1, 10, 14, 3, 5, 12, 2, 15, 8, 6],\n",
    "         [1, 4, 11, 13, 12, 3, 7, 14, 10, 15, 6, 8, 0, 5, 9, 2],\n",
    "         [6, 11, 13, 8, 1, 4, 10, 7, 9, 5, 0, 15, 14, 2, 3, 12]],\n",
    "\n",
    "        [[13, 2, 8, 4, 6, 15, 11, 1, 10, 9, 3, 14, 5, 0, 12, 7],\n",
    "         [1, 15, 13, 8, 10, 3, 7, 4, 12, 5, 6, 11, 0, 14, 9, 2],\n",
    "         [7, 11, 4, 1, 9, 12, 14, 2, 0, 6, 10, 13, 15, 3, 5, 8],\n",
    "         [2, 1, 14, 7, 4, 10, 8, 13, 15, 12, 9, 0, 3, 5, 6, 11]]]"
   ]
  },
  {
   "cell_type": "markdown",
   "metadata": {},
   "source": [
    "ini tabel pbox"
   ]
  },
  {
   "cell_type": "code",
   "execution_count": 22,
   "metadata": {},
   "outputs": [],
   "source": [
    "PboxArray = [16, 7, 20, 21,\n",
    "\t29, 12, 28, 17,\n",
    "\t1, 15, 23, 26,\n",
    "\t5, 18, 31, 10,\n",
    "\t2, 8, 24, 14,\n",
    "\t32, 27, 3, 9,\n",
    "\t19, 13, 30, 6,\n",
    "\t22, 11, 4, 25]"
   ]
  },
  {
   "cell_type": "markdown",
   "metadata": {},
   "source": [
    "ini tabel invers permutasi"
   ]
  },
  {
   "cell_type": "code",
   "execution_count": 23,
   "id": "6f8a44d9",
   "metadata": {},
   "outputs": [],
   "source": [
    "inversPerArray = [40, 8, 48, 16, 56, 24, 64, 32,\n",
    "\t\t\t39, 7, 47, 15, 55, 23, 63, 31,\n",
    "\t\t\t38, 6, 46, 14, 54, 22, 62, 30,\n",
    "\t\t\t37, 5, 45, 13, 53, 21, 61, 29,\n",
    "\t\t\t36, 4, 44, 12, 52, 20, 60, 28,\n",
    "\t\t\t35, 3, 43, 11, 51, 19, 59, 27,\n",
    "\t\t\t34, 2, 42, 10, 50, 18, 58, 26,\n",
    "\t\t\t33, 1, 41, 9, 49, 17, 57, 25]"
   ]
  },
  {
   "cell_type": "markdown",
   "metadata": {},
   "source": [
    "proses:\n",
    "- ekspansi R0 menjadi 48 bit menggunakan tabel ekspansi\n",
    "- XOR hasil ekspansi dengan kunci ```keyPC2``` yang sudah dihasilkan sebelumnya pada proses pembangkitan kunci di pergeseran kunci PC-2\n",
    "- pecah hasil XOR menjadi 8 bagian, masing - masing 6 bit\n",
    "- setiap 6 bit diubah menjadi 4 bit menggunakan tabel S-Box\n",
    "- hasil dari tabel S-Box dijadikan satu, sehingga menghasilkan 32 bit\n",
    "- hasil dari tabel S-Box diubah urutannya menggunakan tabel P-Box\n",
    "- hasil dari tabel P-Box di XOR dengan L0\n",
    "- L0 dijadikan R0\n",
    "- R0 dijadikan L0\n",
    "- proses di atas diulang sebanyak 16 putaran"
   ]
  },
  {
   "cell_type": "code",
   "execution_count": 24,
   "id": "d68c8f33",
   "metadata": {},
   "outputs": [
    {
     "name": "stdout",
     "output_type": "stream",
     "text": [
      "\n",
      "Ekspansi (R1):  100000000001011111111110100000001101010000000110\n",
      "XOR:  100110110001010100010001011111001010010001110100\n",
      "Sbox: 10001011110001000110001011101010\n",
      "Pbox: 01001000101111110101010110000001\n",
      "L1 to R1 : 10110111000001110010001111010110\n",
      "R1 to L1 : 00000000111111110000011010000011\n",
      "Round 1 | L1: 00000000111111110000011010000011 R1: 10110111000001110010001111010110\n",
      "\n",
      "Ekspansi (R2):  010110101110100000001110100100000111111010101101\n",
      "XOR:  001000110100011011010111010010111011011101001000\n",
      "Sbox: 00101100101111000101000010000110\n",
      "Pbox: 00100100000011100001001101110101\n",
      "L2 to R2 : 00100100111100010001010111110110\n",
      "R2 to L2 : 10110111000001110010001111010110\n",
      "Round 2 | L2: 10110111000001110010001111010110 R2: 00100100111100010001010111110110\n",
      "\n",
      "Ekspansi (R3):  000100001001011110100010100010101011111110101100\n",
      "XOR:  010001010110101100101000110010000111000000110101\n",
      "Sbox: 10101101001111001001001001001001\n",
      "Pbox: 00101101101110000101101001010100\n",
      "L3 to R3 : 10011010101111110111100110000010\n",
      "R3 to L3 : 00100100111100010001010111110110\n",
      "Round 3 | L3: 00100100111100010001010111110110 R3: 10011010101111110111100110000010\n",
      "\n",
      "Ekspansi (R4):  010011110101010111111110101111110011110000000101\n",
      "XOR:  001111011111100000101000011001000000100100011000\n",
      "Sbox: 00010101110111000011110010110101\n",
      "Pbox: 00110110000000010101110111111011\n",
      "L4 to R4 : 00010010111100000100100000001101\n",
      "R4 to L4 : 10011010101111110111100110000010\n",
      "Round 4 | L4: 10011010101111110111100110000010 R4: 00010010111100000100100000001101\n",
      "\n",
      "Ekspansi (R5):  100010100101011110100000001001010000000001011010\n",
      "XOR:  111101101011101110100111110011100101001111110010\n",
      "Sbox: 01101111000001101111001010100110\n",
      "Pbox: 01100001011011101101011010110001\n",
      "L5 to R5 : 11111011110100011010111100110011\n",
      "R5 to L5 : 00010010111100000100100000001101\n",
      "Round 5 | L5: 00010010111100000100100000001101 R5: 11111011110100011010111100110011\n",
      "\n",
      "Ekspansi (R6):  111111110111111010100011110101011110100110100111\n",
      "XOR:  100111001101101110011101100001011001001010001000\n",
      "Sbox: 00101000000011101011000000000110\n",
      "Pbox: 00100001010010100001001011100000\n",
      "L6 to R6 : 00110011101110100101101011101101\n",
      "R6 to L6 : 11111011110100011010111100110011\n",
      "Round 6 | L6: 11111011110100011010111100110011 R6: 00110011101110100101101011101101\n",
      "\n",
      "Ekspansi (R7):  100110100111110111110100001011110101011101011010\n",
      "XOR:  011101101111100101000011110110010100111111100110\n",
      "Sbox: 00110010110110000101001111000001\n",
      "Pbox: 01100100001101010010101101000011\n",
      "L7 to R7 : 10011111111001001000010001110000\n",
      "R7 to L7 : 00110011101110100101101011101101\n",
      "Round 7 | L7: 00110011101110100101101011101101 R7: 10011111111001001000010001110000\n",
      "\n",
      "Ekspansi (R8):  010011111111111100001001010000001000001110100001\n",
      "XOR:  101110000111010100110011100000011011100001011010\n",
      "Sbox: 10110111110001000100101101100000\n",
      "Pbox: 01010000101101010111011100010010\n",
      "L8 to R8 : 01100011000011110010110111111111\n",
      "R8 to L8 : 10011111111001001000010001110000\n",
      "Round 8 | L8: 10011111111001001000010001110000 R8: 01100011000011110010110111111111\n",
      "\n",
      "Ekspansi (R9):  101100000110100001011110100101011011111111111110\n",
      "XOR:  010100001011001110110101011110000101100001111111\n",
      "Sbox: 01100010010101011001010001101011\n",
      "Pbox: 11101101000100111001111000001000\n",
      "L9 to R9 : 01110010111101110001101001111000\n",
      "R9 to L9 : 01100011000011110010110111111111\n",
      "Round 9 | L9: 01100011000011110010110111111111 R9: 01110010111101110001101001111000\n",
      "\n",
      "Ekspansi (R10):  001110100101011110101110100011110100001111110000\n",
      "XOR:  100010111010010011101001001101010000010110111111\n",
      "Sbox: 00010011100010101101000001111011\n",
      "Pbox: 01101011010101100100110101000010\n",
      "L10 to R10 : 00001000010110010110000010111101\n",
      "R10 to L10 : 01110010111101110001101001111000\n",
      "Round 10 | L10: 01110010111101110001101001111000 R10: 00001000010110010110000010111101\n",
      "\n",
      "Ekspansi (R11):  100001010000001011110010101100000001010111111010\n",
      "XOR:  101001000101110100100001011011101100011001111100\n",
      "Sbox: 01000100001000111001110000100101\n",
      "Pbox: 10110001010000001000110000111100\n",
      "L11 to R11 : 11000011101101111001011001000100\n",
      "R11 to L11 : 00001000010110010110000010111101\n",
      "Round 11 | L11: 00001000010110010110000010111101 R11: 11000011101101111001011001000100\n",
      "\n",
      "Ekspansi (R12):  011000000111110110101111110010101100001000001001\n",
      "XOR:  000101010000110001011010010111101010010111100000\n",
      "Sbox: 01111001010011001010100011000111\n",
      "Pbox: 00010001000110111101101011100011\n",
      "L12 to R12 : 00011001010000101011101001011110\n",
      "R12 to L12 : 11000011101101111001011001000100\n",
      "Round 12 | L12: 11000011101101111001011001000100 R12: 00011001010000101011101001011110\n",
      "\n",
      "Ekspansi (R13):  000011110010101000000101010111110100001011111100\n",
      "XOR:  100110001110111111010100101001011111100010111101\n",
      "Sbox: 10000100110010000001100001000110\n",
      "Pbox: 00110000100100110000000101110000\n",
      "L13 to R13 : 11110011001001001001011100110100\n",
      "R13 to L13 : 00011001010000101011101001011110\n",
      "Round 13 | L13: 00011001010000101011101001011110 R13: 11110011001001001001011100110100\n",
      "\n",
      "Ekspansi (R14):  011110100110100100001001010010101110100110101001\n",
      "XOR:  001001010010101010111110101110000000111010010011\n",
      "Sbox: 11100111111101001000110001010101\n",
      "Pbox: 01010111100100011101101100111100\n",
      "L14 to R14 : 01001110110100110110000101100010\n",
      "R14 to L14 : 11110011001001001001011100110100\n",
      "Round 14 | L14: 11110011001001001001011100110100 R14: 01001110110100110110000101100010\n",
      "\n",
      "Ekspansi (R15):  001001011101011010100110101100000010101100000100\n",
      "XOR:  100110100100011100101011100011010001010000001110\n",
      "Sbox: 10000111001000011000011000110001\n",
      "Pbox: 11000011101000000100110000011100\n",
      "L15 to R15 : 00110000100001001101101100101000\n",
      "R15 to L15 : 01001110110100110110000101100010\n",
      "Round 15 | L15: 01001110110100110110000101100010 R15: 00110000100001001101101100101000\n",
      "\n",
      "Ekspansi (R16):  000110100001010000001001011011110110100101010000\n",
      "XOR:  110100010010100110000010011000010111111010100101\n",
      "Sbox: 10010111100111011101111001011110\n",
      "Pbox: 11111111101101100101000101111010\n",
      "L16: 10110001011001010011000000011000\n",
      "R16: 00110000100001001101101100101000\n",
      "Round 16 | L16: 10110001011001010011000000011000 R16: 00110000100001001101101100101000\n",
      "\n",
      "Combine R16 dan L16: 1011000101100101001100000001100000110000100001001101101100101000\n",
      "\n",
      "Cipher Text: 0101100000001000001100000000101111001101110101100001100001101000\n"
     ]
    }
   ],
   "source": [
    "ekspansi = \"\" # inisialisasi ekspansi\n",
    "for i in range(16): # putaaran sebanyak 16 kali\n",
    "    permutation = \"\" # inisialisasi permutasi untuk memasukkan nilai ekspansi\n",
    "    for j in range(0, 48): \n",
    "        permutation = permutation + right[ekspansiArray[j] - 1] # melakukan ekspansi oada kunci kanan, menggunakan tabel ekspansi\n",
    "    ekspansi = permutation\n",
    "\n",
    "    print(f\"\\nEkspansi (R{i+1}): \", ekspansi) \n",
    "\n",
    "    xor = \"\" # inisialisasi xor\n",
    "    for j in range(48):\n",
    "        if ekspansi[j] == keyPC2[i][j]: # memeriksa apakah nilai ekspansi sama dengan nilai keyPC2 menggunakan index i dan j\n",
    "            xor = xor + \"0\" # jika kondisi diatas terpenuhi, maka tambahkan nilai 0 ke dalam variabel xor\n",
    "        else:\n",
    "            xor = xor + \"1\" # jika kondisi diatas tidak terpenuhi, maka tambahkan nilai 1 ke dalam variabel xor\n",
    "    print(\"XOR: \", xor)\n",
    "\n",
    "    sbox = \"\" # inisialisasi sbox\n",
    "    for j in range(0, 8): # melakukan operasi sbox sebanyak 8 kali\n",
    "        row = int(xor[j * 6] + xor[j * 6 + 5], 2) # mengambil 2 bit pertama dan dua bit terakhir dari blok xor untuk mendapatkan index baris pada S-box\n",
    "        col = int(xor[j * 6 + 1:j * 6 + 5], 2) # mengambil 4 bit tengah dari blok xor untuk mendapatkan index kolom pada S-box\n",
    "        val = SboxArray[j][row][col] # mengambil nilai dari S-box menggunakan index row dan col\n",
    "        sbox = sbox + format(val, '04b') # mengubah nilai val menjadi biner dengan 4 bit, dan menambahkan nilai val ke dalam variabel sbox\n",
    "\n",
    "    print(\"Sbox:\", sbox)\n",
    "\n",
    "    pbox = \"\" # inisialisasi pbox\n",
    "    for j in range(32):\n",
    "        pbox = pbox + sbox[PboxArray[j] - 1] # mengambil elemen dari sbox menggunakan index dari PBoxArray dan menambahkan nilai ke dalam variabel pbox\n",
    "\n",
    "    print(\"Pbox:\", pbox)\n",
    "\n",
    "    inversing = \"\" # inisialisasi inversing\n",
    "    for j in range(32):\n",
    "        if left[j] == pbox[j]: # memeriksa apakah nilai left sama dengan nilai pbox menggunakan index j\n",
    "            inversing = inversing + \"0\" # jika kondisi diatas terpenuhi, maka tambahkan nilai 0 ke dalam variabel inversing\n",
    "        else:\n",
    "            inversing = inversing + \"1\" # jika kondisi diatas tidak terpenuhi, maka tambahkan nilai 1 ke dalam variabel inversing\n",
    "    left = inversing\n",
    "\n",
    "    if i != 15: # memeriksa apakah ini bukan putaran terakhir\n",
    "        print(f\"L{i+1}\", f\"to R{i+1} :\", left) # menampilkan nilai kunci kiri yang akan digunakan sebagai acuan untuk ke kunci kanan pada putaran selanjutnya\n",
    "        print(f\"R{i+1}\", f\"to L{i+1} :\", right) # menampilkan nilai kunci kanan yang akan digunakan sebagai acuan untuk ke kunci kiri pada putaran selanjutnya\n",
    "    else:\n",
    "        print(f\"L{i+1}:\", left) # jika sudah mencaai putaran terakhir, maka tampilkan nilai kunci kiri\n",
    "        print(f\"R{i+1}:\", right) # jika sudah mencaai putaran terakhir, maka tampilkan nilai kunci kanan\n",
    "\n",
    "    if i != 15: # memeriksa apakah ini bukan putaran terakhir\n",
    "        left, right = right, left # jika kondisi diatas terpenuhi, maka tukar nilai left dan right\n",
    "    print(f\"Round {i+1} |\", f\"L{i+1}:\", left, f\"R{i+1}:\", right)\n",
    "\n",
    "combine = left + right # menggabungkan left dan right\n",
    "print(\"\\nCombine R16 dan L16:\", combine)\n",
    "\n",
    "cipher_text = \"\" # inisialisasi cipher text\n",
    "for j in range(64): \n",
    "    cipher_text = cipher_text + combine[inversPerArray[j] - 1] # mengambil elemen dari combine menggunakan index dari inversPerArray dan menambahkan nilai ke dalam variabel cipher_text\n",
    "\n",
    "print(\"\\nCipher Text:\", cipher_text)"
   ]
  },
  {
   "cell_type": "code",
   "execution_count": 25,
   "id": "c377a06c",
   "metadata": {},
   "outputs": [
    {
     "name": "stdout",
     "output_type": "stream",
     "text": [
      "['110010110011110110001011000011100001011111110101', '101111111001000110001101001111010011111100001010', '010111110100001110110111111100101110011100111010', '100101111100010111010001111110101011101001000001', '011101010111000111110101100101000110011111101001', '001000010101111111010011110111101101001110000110', '101100011111001101000111101110100100011001001111', '111000001101101111101011111011011110011110000001', '111101111000101000111010110000010011101111111011', '111011001000010010110111111101100001100010111100', '011000111010010100111110010100000111101100101111', '011111001110110000000111111010110101001110101000', '011100101010110111010110110110110011010100011101', '010101011111110010001010010000101100111110011001', '011110011010111011011001110110111100100111100101', '000110110000001011101111111111000111000001110010']\n",
      "Ciphertext: 01011000 00001000 00110000 00001011 11001101 11010110 00011000 01101000\n"
     ]
    }
   ],
   "source": [
    "invKeyPC2 = keyPC2[::-1] # digunakan untuk membalikkan array dari keyPC2 dan sebagai penggunaan dekripsi, lalu disimpan dalam variabel invKeyPC2\n",
    "print(invKeyPC2)\n",
    "\n",
    "separated_text = ' '.join([cipher_text[i:i+8] for i in range(0, len(cipher_text), 8)])\n",
    "print(\"Ciphertext: \" + separated_text)"
   ]
  },
  {
   "cell_type": "markdown",
   "metadata": {},
   "source": [
    "# DEKRIPSI"
   ]
  },
  {
   "cell_type": "markdown",
   "metadata": {},
   "source": [
    "menghitung panjang bit pada ciphertext"
   ]
  },
  {
   "cell_type": "code",
   "execution_count": 26,
   "id": "255049fe",
   "metadata": {},
   "outputs": [
    {
     "name": "stdout",
     "output_type": "stream",
     "text": [
      "Panjang chiperteks: 64\n"
     ]
    }
   ],
   "source": [
    "print(\"Panjang chiperteks: \" + str(len(cipher_text)))"
   ]
  },
  {
   "cell_type": "markdown",
   "metadata": {},
   "source": [
    "encoding setiap 64 bit data ciphertext dengan tabel permutasi awal lalu dibagi per 8 bit"
   ]
  },
  {
   "cell_type": "code",
   "execution_count": 27,
   "id": "03c21d7e",
   "metadata": {},
   "outputs": [
    {
     "name": "stdout",
     "output_type": "stream",
     "text": [
      "1011000101100101001100000001100000110000100001001101101100101000\n",
      "Proses permutasi awal untuk dekripsi: 10110001 01100101 00110000 00011000 00110000 10000100 11011011 00101000\n"
     ]
    }
   ],
   "source": [
    "permutation = \"\"\n",
    "for i in range(0, 64):\n",
    "    permutation = permutation + cipher_text[initPerm[i] - 1]\n",
    "\n",
    "print(permutation)\n",
    "\n",
    "separated_text = ' '.join([permutation[i:i+8] for i in range(0, len(permutation), 8)])\n",
    "print(\"Proses permutasi awal untuk dekripsi: \" + separated_text)"
   ]
  },
  {
   "cell_type": "markdown",
   "metadata": {},
   "source": [
    "Pembagian 64 bit menjadi 32 bit pada kiri dan kanan di ciphertext"
   ]
  },
  {
   "cell_type": "code",
   "execution_count": 28,
   "id": "a6ca62ff",
   "metadata": {},
   "outputs": [
    {
     "name": "stdout",
     "output_type": "stream",
     "text": [
      "Left | Decrypt: 10110001 01100101 00110000 00011000\n",
      "Right | Decrypt: 00110000 10000100 11011011 00101000\n"
     ]
    }
   ],
   "source": [
    "left = permutation[0:32]\n",
    "right = permutation[32:64]\n",
    "\n",
    "kiri = ' '.join([left[i:i+8] for i in range(0, len(left), 8)])\n",
    "print(\"Left | Decrypt: \" + kiri)\n",
    "\n",
    "kanan = ' '.join([right[i:i+8] for i in range(0, len(right), 8)])\n",
    "print(\"Right | Decrypt: \" + kanan)"
   ]
  },
  {
   "cell_type": "markdown",
   "metadata": {},
   "source": [
    "proses sama seperti enkripsi hanya tetapi ini digunakan untuk dekripsi dari ciphertext"
   ]
  },
  {
   "cell_type": "code",
   "execution_count": 29,
   "id": "61a74672",
   "metadata": {},
   "outputs": [
    {
     "name": "stdout",
     "output_type": "stream",
     "text": [
      "\n",
      "Ekspansi (R1):  000110100001010000001001011011110110100101010000\n",
      "XOR:  110100010010100110000010011000010111111010100101\n",
      "Sbox: 10010111100111011101111001011110\n",
      "Pbox: 11111111101101100101000101111010\n",
      "L1 | to R1 : 01001110110100110110000101100010\n",
      "R1 | to L1 : 00110000100001001101101100101000\n",
      "Round 1 | L1: 00110000100001001101101100101000 R1: 01001110110100110110000101100010\n",
      "\n",
      "Ekspansi (R2):  001001011101011010100110101100000010101100000100\n",
      "XOR:  100110100100011100101011100011010001010000001110\n",
      "Sbox: 10000111001000011000011000110001\n",
      "Pbox: 11000011101000000100110000011100\n",
      "L2 | to R2 : 11110011001001001001011100110100\n",
      "R2 | to L2 : 01001110110100110110000101100010\n",
      "Round 2 | L2: 01001110110100110110000101100010 R2: 11110011001001001001011100110100\n",
      "\n",
      "Ekspansi (R3):  011110100110100100001001010010101110100110101001\n",
      "XOR:  001001010010101010111110101110000000111010010011\n",
      "Sbox: 11100111111101001000110001010101\n",
      "Pbox: 01010111100100011101101100111100\n",
      "L3 | to R3 : 00011001010000101011101001011110\n",
      "R3 | to L3 : 11110011001001001001011100110100\n",
      "Round 3 | L3: 11110011001001001001011100110100 R3: 00011001010000101011101001011110\n",
      "\n",
      "Ekspansi (R4):  000011110010101000000101010111110100001011111100\n",
      "XOR:  100110001110111111010100101001011111100010111101\n",
      "Sbox: 10000100110010000001100001000110\n",
      "Pbox: 00110000100100110000000101110000\n",
      "L4 | to R4 : 11000011101101111001011001000100\n",
      "R4 | to L4 : 00011001010000101011101001011110\n",
      "Round 4 | L4: 00011001010000101011101001011110 R4: 11000011101101111001011001000100\n",
      "\n",
      "Ekspansi (R5):  011000000111110110101111110010101100001000001001\n",
      "XOR:  000101010000110001011010010111101010010111100000\n",
      "Sbox: 01111001010011001010100011000111\n",
      "Pbox: 00010001000110111101101011100011\n",
      "L5 | to R5 : 00001000010110010110000010111101\n",
      "R5 | to L5 : 11000011101101111001011001000100\n",
      "Round 5 | L5: 11000011101101111001011001000100 R5: 00001000010110010110000010111101\n",
      "\n",
      "Ekspansi (R6):  100001010000001011110010101100000001010111111010\n",
      "XOR:  101001000101110100100001011011101100011001111100\n",
      "Sbox: 01000100001000111001110000100101\n",
      "Pbox: 10110001010000001000110000111100\n",
      "L6 | to R6 : 01110010111101110001101001111000\n",
      "R6 | to L6 : 00001000010110010110000010111101\n",
      "Round 6 | L6: 00001000010110010110000010111101 R6: 01110010111101110001101001111000\n",
      "\n",
      "Ekspansi (R7):  001110100101011110101110100011110100001111110000\n",
      "XOR:  100010111010010011101001001101010000010110111111\n",
      "Sbox: 00010011100010101101000001111011\n",
      "Pbox: 01101011010101100100110101000010\n",
      "L7 | to R7 : 01100011000011110010110111111111\n",
      "R7 | to L7 : 01110010111101110001101001111000\n",
      "Round 7 | L7: 01110010111101110001101001111000 R7: 01100011000011110010110111111111\n",
      "\n",
      "Ekspansi (R8):  101100000110100001011110100101011011111111111110\n",
      "XOR:  010100001011001110110101011110000101100001111111\n",
      "Sbox: 01100010010101011001010001101011\n",
      "Pbox: 11101101000100111001111000001000\n",
      "L8 | to R8 : 10011111111001001000010001110000\n",
      "R8 | to L8 : 01100011000011110010110111111111\n",
      "Round 8 | L8: 01100011000011110010110111111111 R8: 10011111111001001000010001110000\n",
      "\n",
      "Ekspansi (R9):  010011111111111100001001010000001000001110100001\n",
      "XOR:  101110000111010100110011100000011011100001011010\n",
      "Sbox: 10110111110001000100101101100000\n",
      "Pbox: 01010000101101010111011100010010\n",
      "L9 | to R9 : 00110011101110100101101011101101\n",
      "R9 | to L9 : 10011111111001001000010001110000\n",
      "Round 9 | L9: 10011111111001001000010001110000 R9: 00110011101110100101101011101101\n",
      "\n",
      "Ekspansi (R10):  100110100111110111110100001011110101011101011010\n",
      "XOR:  011101101111100101000011110110010100111111100110\n",
      "Sbox: 00110010110110000101001111000001\n",
      "Pbox: 01100100001101010010101101000011\n",
      "L10 | to R10 : 11111011110100011010111100110011\n",
      "R10 | to L10 : 00110011101110100101101011101101\n",
      "Round 10 | L10: 00110011101110100101101011101101 R10: 11111011110100011010111100110011\n",
      "\n",
      "Ekspansi (R11):  111111110111111010100011110101011110100110100111\n",
      "XOR:  100111001101101110011101100001011001001010001000\n",
      "Sbox: 00101000000011101011000000000110\n",
      "Pbox: 00100001010010100001001011100000\n",
      "L11 | to R11 : 00010010111100000100100000001101\n",
      "R11 | to L11 : 11111011110100011010111100110011\n",
      "Round 11 | L11: 11111011110100011010111100110011 R11: 00010010111100000100100000001101\n",
      "\n",
      "Ekspansi (R12):  100010100101011110100000001001010000000001011010\n",
      "XOR:  111101101011101110100111110011100101001111110010\n",
      "Sbox: 01101111000001101111001010100110\n",
      "Pbox: 01100001011011101101011010110001\n",
      "L12 | to R12 : 10011010101111110111100110000010\n",
      "R12 | to L12 : 00010010111100000100100000001101\n",
      "Round 12 | L12: 00010010111100000100100000001101 R12: 10011010101111110111100110000010\n",
      "\n",
      "Ekspansi (R13):  010011110101010111111110101111110011110000000101\n",
      "XOR:  001111011111100000101000011001000000100100011000\n",
      "Sbox: 00010101110111000011110010110101\n",
      "Pbox: 00110110000000010101110111111011\n",
      "L13 | to R13 : 00100100111100010001010111110110\n",
      "R13 | to L13 : 10011010101111110111100110000010\n",
      "Round 13 | L13: 10011010101111110111100110000010 R13: 00100100111100010001010111110110\n",
      "\n",
      "Ekspansi (R14):  000100001001011110100010100010101011111110101100\n",
      "XOR:  010001010110101100101000110010000111000000110101\n",
      "Sbox: 10101101001111001001001001001001\n",
      "Pbox: 00101101101110000101101001010100\n",
      "L14 | to R14 : 10110111000001110010001111010110\n",
      "R14 | to L14 : 00100100111100010001010111110110\n",
      "Round 14 | L14: 00100100111100010001010111110110 R14: 10110111000001110010001111010110\n",
      "\n",
      "Ekspansi (R15):  010110101110100000001110100100000111111010101101\n",
      "XOR:  001000110100011011010111010010111011011101001000\n",
      "Sbox: 00101100101111000101000010000110\n",
      "Pbox: 00100100000011100001001101110101\n",
      "L15 | to R15 : 00000000111111110000011010000011\n",
      "R15 | to L15 : 10110111000001110010001111010110\n",
      "Round 15 | L15: 10110111000001110010001111010110 R15: 00000000111111110000011010000011\n",
      "\n",
      "Ekspansi (R16):  100000000001011111111110100000001101010000000110\n",
      "XOR:  100110110001010100010001011111001010010001110100\n",
      "Sbox: 10001011110001000110001011101010\n",
      "Pbox: 01001000101111110101010110000001\n",
      "L16 | to R16 : 11111111101110000111011001010111\n",
      "R16 | to L16 : 00000000111111110000011010000011\n",
      "Round 16 | L16: 11111111101110000111011001010111 R16: 00000000111111110000011010000011\n",
      "\n",
      "Combine R16 dan L16: 1111111110111000011101100101011100000000111111110000011010000011\n",
      "\n",
      "Dekripsi (binary format): 0110001101101111011011010111000001110101011101000110010101110010\n"
     ]
    }
   ],
   "source": [
    "ekspansi = \"\" # inisialisasi ekspansi\n",
    "for i in range(16): # putaaran sebanyak 16 kali\n",
    "    permutation = \"\" # inisialisasi permutasi untuk memasukkan nilai ekspansi\n",
    "    for j in range(0, 48): \n",
    "        permutation = permutation + right[ekspansiArray[j] - 1] # melakukan ekspansi oada kunci kanan, menggunakan tabel ekspansi\n",
    "    ekspansi = permutation\n",
    "\n",
    "    print(f\"\\nEkspansi (R{i+1}): \", ekspansi) \n",
    "\n",
    "    xor = \"\" # inisialisasi xor\n",
    "    for j in range(48):\n",
    "        if ekspansi[j] == invKeyPC2[i][j]: # memeriksa apakah nilai ekspansi sama dengan nilai keyPC2 menggunakan index i dan j\n",
    "            xor = xor + \"0\" # jika kondisi diatas terpenuhi, maka tambahkan nilai 0 ke dalam variabel xor\n",
    "        else:\n",
    "            xor = xor + \"1\" # jika kondisi diatas tidak terpenuhi, maka tambahkan nilai 1 ke dalam variabel xor\n",
    "    print(\"XOR: \", xor)\n",
    "\n",
    "    sbox = \"\" # inisialisasi sbox\n",
    "    for j in range(0, 8): # melakukan operasi sbox sebanyak 8 kali\n",
    "        row = int(xor[j * 6] + xor[j * 6 + 5], 2) # mengambil 2 bit pertama dan dua bit terakhir dari blok xor untuk mendapatkan index baris pada S-box\n",
    "        col = int(xor[j * 6 + 1:j * 6 + 5], 2) # mengambil 4 bit tengah dari blok xor untuk mendapatkan index kolom pada S-box\n",
    "        val = SboxArray[j][row][col] # mengambil nilai dari S-box menggunakan index row dan col\n",
    "        sbox = sbox + format(val, '04b') # mengubah nilai val menjadi biner dengan 4 bit, dan menambahkan nilai val ke dalam variabel sbox\n",
    "\n",
    "    print(\"Sbox:\", sbox)\n",
    "\n",
    "    pbox = \"\" # inisialisasi pbox\n",
    "    for j in range(32):\n",
    "        pbox = pbox + sbox[PboxArray[j] - 1] # mengambil elemen dari sbox menggunakan index dari PBoxArray dan menambahkan nilai ke dalam variabel pbox\n",
    "\n",
    "    print(\"Pbox:\", pbox)\n",
    "\n",
    "    inversing = \"\" # inisialisasi inversing\n",
    "    for j in range(32):\n",
    "        if left[j] == pbox[j]: # memeriksa apakah nilai left sama dengan nilai pbox menggunakan index i dan j\n",
    "            inversing = inversing + \"0\" # jika kondisi diatas terpenuhi, maka tambahkan nilai 0 ke dalam variabel inversing\n",
    "        else:\n",
    "            inversing = inversing + \"1\" # jika kondisi diatas tidak terpenuhi, maka tambahkan nilai 1 ke dalam variabel inversing\n",
    "    left = inversing\n",
    "\n",
    "    print(f\"L{i+1}\", f\"| to R{i+1} :\", left) # menampilkan nilai kunci kiri yang akan digunakan sebagai acuan untuk ke kunci kanan pada putaran selanjutnya\n",
    "    print(f\"R{i+1}\", f\"| to L{i+1} :\", right) # menampilkan nilai kunci kanan yang akan digunakan sebagai acuan untuk ke kunci kiri pada putaran selanjutnya\n",
    "\n",
    "    if i != 15: # memeriksa apakah ini bukan putaran terakhir\n",
    "        left, right = right, left # jika kondisi diatas terpenuhi, maka tukar nilai left dan right\n",
    "    print(f\"Round {i+1} |\", f\"L{i+1}:\", left, f\"R{i+1}:\", right)\n",
    "\n",
    "combine = left + right # menggabungkan left dan right\n",
    "print(\"\\nCombine R16 dan L16:\", combine)\n",
    "\n",
    "decrypt_text = \"\"\n",
    "for j in range(64): # melakukan invers permutasi\n",
    "    decrypt_text = decrypt_text + combine[inversPerArray[j] - 1] # melakukan invers permutasi dengan menggunakan tabel inversPer yang telah ditentukan\n",
    "\n",
    "print(\"\\nDekripsi (binary format):\", decrypt_text)"
   ]
  },
  {
   "cell_type": "markdown",
   "metadata": {},
   "source": [
    "memisahkan dekripsi menjadi 8 bit"
   ]
  },
  {
   "cell_type": "code",
   "execution_count": 30,
   "id": "436757c4",
   "metadata": {},
   "outputs": [
    {
     "name": "stdout",
     "output_type": "stream",
     "text": [
      "Hasil biner proses dekripsi: 01100011 01101111 01101101 01110000 01110101 01110100 01100101 01110010\n"
     ]
    }
   ],
   "source": [
    "separated_text = ' '.join([decrypt_text[i:i+8] for i in range(0, len(decrypt_text), 8)])\n",
    "print(\"Hasil biner proses dekripsi: \" + separated_text)"
   ]
  },
  {
   "cell_type": "markdown",
   "metadata": {},
   "source": [
    "mengambil teks yang telah dipecah-pecah menjadi potongan-potongan biner 8-bit, dan kemudian mengonversi setiap potongan tersebut kembali menjadi karakter, dan akhirnya mencetak teks hasil dekripsi."
   ]
  },
  {
   "cell_type": "code",
   "execution_count": 31,
   "id": "5812ba2e",
   "metadata": {},
   "outputs": [
    {
     "name": "stdout",
     "output_type": "stream",
     "text": [
      "['01100011', '01101111', '01101101', '01110000', '01110101', '01110100', '01100101', '01110010']\n",
      "Dekripsi: computer\n"
     ]
    }
   ],
   "source": [
    "binary_chunks = separated_text.split() # memisahkan biner menjadi 8 bit\n",
    "print(binary_chunks)\n",
    "\n",
    "text = ''.join(chr(int(chunk, 2)) for chunk in binary_chunks) # mengubah biner menjadi integer, lalu mengonversi integer menjadi karakter unicode, kemudian menggabungkan karakter unicode menjadi string\n",
    "\n",
    "print(\"Dekripsi:\", text)"
   ]
  }
 ],
 "metadata": {
  "kernelspec": {
   "display_name": "Python 3 (ipykernel)",
   "language": "python",
   "name": "python3"
  },
  "language_info": {
   "codemirror_mode": {
    "name": "ipython",
    "version": 3
   },
   "file_extension": ".py",
   "mimetype": "text/x-python",
   "name": "python",
   "nbconvert_exporter": "python",
   "pygments_lexer": "ipython3",
   "version": "3.10.11"
  }
 },
 "nbformat": 4,
 "nbformat_minor": 5
}
